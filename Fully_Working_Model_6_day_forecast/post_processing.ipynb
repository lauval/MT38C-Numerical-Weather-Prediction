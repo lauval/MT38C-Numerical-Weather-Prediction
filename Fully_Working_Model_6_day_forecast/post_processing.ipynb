{
 "cells": [
  {
   "cell_type": "markdown",
   "id": "91d061ef",
   "metadata": {},
   "source": [
    "# Post Processing of data files created from each run of the forecast"
   ]
  },
  {
   "cell_type": "code",
   "execution_count": 62,
   "id": "08f97ccd",
   "metadata": {},
   "outputs": [],
   "source": [
    "import imageio\n",
    "from pathlib import Path\n",
    "import numpy as np\n",
    "import matplotlib.pyplot as plt\n",
    "import scienceplots\n",
    "plt.style.use('science')"
   ]
  },
  {
   "cell_type": "code",
   "execution_count": 63,
   "id": "01e442c7",
   "metadata": {},
   "outputs": [],
   "source": [
    "def process_and_plot_data(data_type, grid_space, streamfunction_type, interpolation_order, step_size):\n",
    "    \n",
    "    # define grid \n",
    "    upper_x_limit = 2.5e7 + grid_space\n",
    "    upper_y_limit = 5e6 + grid_space\n",
    "\n",
    "    x = np.arange(0, upper_x_limit, grid_space)\n",
    "    y = np.arange(0, upper_y_limit, grid_space)\n",
    "\n",
    "    Y, X = np.meshgrid(y, x)\n",
    "\n",
    "    # define subset of the grid for plotting wind barbs\n",
    "    X_subset = X[:, 1:-1]\n",
    "    Y_subset = Y[:, 1:-1]\n",
    "\n",
    "    skip = 20  # set to 80 if grid resolution is 1e4\n",
    "\n",
    "    # define input data directory\n",
    "    input_dir = Path(f\"data/{int(grid_space/1e4)}/{step_size/60/60:.0f}dt/{streamfunction_type}/order_{interpolation_order}\")\n",
    "\n",
    "    # define output data directory\n",
    "    output_dir = input_dir / 'figs' / data_type\n",
    "\n",
    "    if not output_dir.exists():\n",
    "        output_dir.mkdir(parents=True)\n",
    "        print(f\"Created directory {output_dir}\")\n",
    "\n",
    "    print(f\"Processing data in {input_dir} and saving figures to {output_dir}\")\n",
    "\n",
    "    # loop over all files in the input directory for the specified data type\n",
    "    for i in range(144):\n",
    "\n",
    "        if data_type == 'streamfunction':\n",
    "\n",
    "            # load the data\n",
    "            psi_file = f'{input_dir}/streamfunction_{i+1:03d}.npy'\n",
    "            psi_n = np.load(psi_file)\n",
    "\n",
    "            # load wind data\n",
    "            u_file, v_file = f'{input_dir}/u_{i+1:03d}.npy', f'{input_dir}/v_{i+1:03d}.npy'\n",
    "            U_n, V_n = np.load(u_file), np.load(v_file)\n",
    "\n",
    "            # plot the streamfunction\n",
    "            fig, ax = plt.subplots(figsize=(7, 4), dpi=300)\n",
    "\n",
    "            ax.set_aspect('equal')\n",
    "\n",
    "            ax.contourf(X, Y, psi_n)\n",
    "            ax.set_title(f'$\\Psi$ (m$^2$ s$^{-1}$) at timestep {i+1} of 144')\n",
    "            ax.set_ylabel('Y-Coordinate')\n",
    "            ax.set_xlabel('X-Coordinate')         \n",
    "\n",
    "            ax.quiver(X_subset[1:-1:skip, 1:-1:skip], Y_subset[1:-1:skip, 1:-1:skip], U_n[1:-1:skip, 1:-1:skip], V_n[1:-1:skip, 1:-1:skip], scale=700, color='black')  \n",
    "            \n",
    "            plt.savefig(f'{output_dir}/{data_type}_{i+1:03d}.png')\n",
    "            \n",
    "            plt.close()\n",
    "\n",
    "        elif data_type == 'vorticity':\n",
    "\n",
    "            # load the data\n",
    "            q_file = f'{input_dir}/vorticity_{i+1:03d}.npy'\n",
    "            q_n = np.load(q_file)\n",
    "\n",
    "            # plot the streamfunction\n",
    "            fig, ax = plt.subplots(figsize=(7, 4), dpi=300)\n",
    "\n",
    "            ax.set_aspect('equal')\n",
    "\n",
    "            plot = ax.pcolormesh(q_n.T)\n",
    "            ax.set_title(f'$q$ (s$^{-1}$) at timestep {i+1} of 144')\n",
    "            ax.set_ylabel('Y-Coordinate')\n",
    "            ax.set_xlabel('X-Coordinate')\n",
    "            # colorbar = plt.colorbar(plot, ax=ax, pad=0.2, orientation='horizontal',  label='(s$^{-1}$)')\n",
    "\n",
    "            plt.savefig(f'{output_dir}/{data_type}_{i+1:03d}.png')\n",
    "            plt.close()\n",
    "\n",
    "        elif data_type == 'combined':\n",
    "            \n",
    "            # load the data\n",
    "            psi_file, vort_file = f'{input_dir}/streamfunction_{i+1:03d}.npy', f'{input_dir}/vorticity_{i+1:03d}.npy'\n",
    "            psi_n, vort_n = np.load(psi_file), np.load(vort_file)\n",
    "\n",
    "            # load wind data\n",
    "            u_file, v_file = f'{input_dir}/u_{i+1:03d}.npy', f'{input_dir}/v_{i+1:03d}.npy'\n",
    "            U_n, V_n = np.load(u_file), np.load(v_file)\n",
    "\n",
    "            # plot the streamfunction with wind barbs\n",
    "            fig, ax = plt.subplots(2, figsize=(7, 4), dpi=300)\n",
    "\n",
    "            for axis in ax: # set equal aspect ratio\n",
    "                axis.set_aspect('equal')\n",
    "                axis.tick_params(axis='both', which='both', bottom=False, top=False, left=False, right=False, labelbottom=False, labelleft=False)\n",
    "\n",
    "            ax[0].contourf(X, Y, psi_n)\n",
    "            ax[0].set_title(f'$\\Psi$ (m$^2$ s$^{-1}$) at timestep {i+1} of 144')\n",
    "\n",
    "            ax[0].quiver(X_subset[1:-1:skip, 1:-1:skip], Y_subset[1:-1:skip, 1:-1:skip], U_n[1:-1:skip, 1:-1:skip], V_n[1:-1:skip, 1:-1:skip], scale=500, color='black') # set scale to 700 if grid resolution is 1e4\n",
    "\n",
    "            ax[1].pcolormesh(vort_n.T)\n",
    "            ax[1].set_title(f'$q$ (s$^{-1}$) at timestep {i+1} of 144')\n",
    "\n",
    "            plt.savefig(f'{output_dir}/{data_type}_{i+1:03d}.png')\n",
    "            \n",
    "            plt.close()\n",
    "        \n",
    "    print('Done\\n')\n"
   ]
  },
  {
   "cell_type": "code",
   "execution_count": 68,
   "id": "962a0f05",
   "metadata": {},
   "outputs": [],
   "source": [
    "def create_gif(data_type, grid_space, streamfunction_type, interpolation_order, step_size):\n",
    "    \n",
    "    input_dir = Path(f\"data/{int(grid_space/1e4)}/{step_size/60/60:.0f}dt/{streamfunction_type}/order_{interpolation_order}/figs/{data_type}/\")\n",
    "    \n",
    "    frames = []\n",
    "\n",
    "    for i in range(144):\n",
    "        filename = f'{input_dir}/{data_type}_{i+1:03d}.png'\n",
    "        frames.append(imageio.v2.imread(filename))\n",
    "\n",
    "    print(f'Creating file: {data_type}_{int(grid_space/1e4)}_{streamfunction_type}_order{interpolation_order}.gif')\n",
    "\n",
    "    imageio.mimsave(f'new_gifs/{data_type}_{int(grid_space/1e4)}_{streamfunction_type}_order{interpolation_order}.gif', frames, 'GIF', duration=0.1)\n",
    "\n",
    "    print('Done')\n",
    "\n",
    "dt = 60 * 60          # 1 hour in seconds\n",
    "# set up some time step sizes for experiments\n",
    "step_sizes = [dt]\n",
    "\n",
    "# set up some interpolation orders for experiments\n",
    "interpolation_orders = [5]\n",
    "\n",
    "# define two streamfunction scenarios for experiments\n",
    "streamfunction_types = ['random_noise']\n",
    "\n",
    "# try different grid resolutions\n",
    "grid_resolutions = [1e4]\n",
    "\n",
    "data_types = ['combined']"
   ]
  },
  {
   "cell_type": "code",
   "execution_count": 69,
   "id": "a8da77c0",
   "metadata": {},
   "outputs": [
    {
     "name": "stdout",
     "output_type": "stream",
     "text": [
      "Creating file: combined_1_random_noise_order5.gif\n",
      "Done\n"
     ]
    }
   ],
   "source": [
    "for data in data_types:\n",
    "    for grid_space in grid_resolutions:\n",
    "        for streamfunction_type in streamfunction_types:\n",
    "            for interpolation_order in interpolation_orders:\n",
    "                for step_size in step_sizes:\n",
    "                    # process_and_plot_data(data, grid_space, streamfunction_type, interpolation_order, step_size)\n",
    "                    create_gif(data, grid_space, streamfunction_type, interpolation_order, step_size)"
   ]
  },
  {
   "cell_type": "code",
   "execution_count": 66,
   "id": "77af473a",
   "metadata": {},
   "outputs": [
    {
     "data": {
      "text/plain": [
       "(251, 51)"
      ]
     },
     "execution_count": 66,
     "metadata": {},
     "output_type": "execute_result"
    }
   ],
   "source": [
    "random_noise = np.random.rand(251, 51)\n",
    "\n",
    "np.shape(random_noise)"
   ]
  },
  {
   "cell_type": "code",
   "execution_count": null,
   "id": "edd94468",
   "metadata": {},
   "outputs": [],
   "source": []
  }
 ],
 "metadata": {
  "kernelspec": {
   "display_name": "Python 3 (ipykernel)",
   "language": "python",
   "name": "python3"
  },
  "language_info": {
   "codemirror_mode": {
    "name": "ipython",
    "version": 3
   },
   "file_extension": ".py",
   "mimetype": "text/x-python",
   "name": "python",
   "nbconvert_exporter": "python",
   "pygments_lexer": "ipython3",
   "version": "3.10.10"
  }
 },
 "nbformat": 4,
 "nbformat_minor": 5
}
