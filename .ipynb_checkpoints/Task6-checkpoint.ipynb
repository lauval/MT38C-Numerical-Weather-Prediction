{
 "cells": [
  {
   "cell_type": "markdown",
   "id": "e1ce88f8",
   "metadata": {},
   "source": [
    "# Background Theory\n",
    "\n",
    "If some quantity, q (e.g. potential vorticity, $\\xi$) can be advected by the wind field $\\mathbf{v}$, then it satisfies the differential equation:\n",
    "\n",
    "$$ \\frac{Dq}{Dt} = 0 $$\n",
    "\n",
    "We also recall from previous weeks that we can define a streamfunction, $\\Psi$, for a non-divergent field."
   ]
  },
  {
   "cell_type": "markdown",
   "id": "dc31868c",
   "metadata": {},
   "source": [
    "So if we want to find the value of $q$ at some time $t^{n+1}$, we need the value of $q$ at time $t^n$ at the point in the fluid that will arrive at $\\mathbf{x}_{ij}$ at time $t^{n+1}$. This is the departure point, $\\tilde{\\mathbf{x}}_{ij}$.\n",
    "\n",
    "To find the departure point, we use the definition of velocity: $\\frac{D \\mathbf{x}}{Dt} = \\mathbf{u}$.\n",
    "\n",
    "We can integrate this over one timestep using the avergage of the values of the end points as an estmate of the value in the middle. So we have:\n",
    "\n",
    "$$ \\mathbf{x}_{ij} = \\tilde{\\mathbf{x}}_{ij} + \\frac{\\mathbf{u}\\left(\\tilde{\\mathbf{x}}_{ij}, t^n\\right) + \\mathbf{u}\\left(\\mathbf{x}_{ij}, t^{n+1}\\right)}{2} \\Delta t$$\n",
    "\n",
    "We re-arrange this for $\\tilde{\\mathbf{x}}_{ij}$:\n",
    "\n",
    "$$ \\tilde{\\mathbf{x}}_{ij} = \\mathbf{x}_{ij} - \\frac{\\mathbf{u}\\left(\\tilde{\\mathbf{x}}_{ij}, t^n\\right) + \\mathbf{u}\\left(\\mathbf{x}_{ij}, t^{n+1}\\right)}{2} \\Delta t$$\n",
    "\n",
    "\n",
    "Which we can solve iteratively."
   ]
  },
  {
   "cell_type": "markdown",
   "id": "3aa36678",
   "metadata": {},
   "source": [
    "We can use the principles above to advect a passive tracer around a 2D domain. \n",
    "\n",
    "The streamfunction is as originally defined in previous weeks:\n",
    "$$ \\Psi = \\frac{\\Phi_0}{f_0} \\left[ 1 - A \\tanh{\\left(\\frac{y-y_0}{L_y}\\right)}\\right] $$\n",
    "\n",
    "And the passive tracer is defined as:\n",
    "$$ q(x,y) = \\exp \\left(\\frac{[(x-x_0)^2 + y-y_0)^2}{2 \\sigma} \\right) $$\n",
    "\n",
    "Thus, given some domain parameters:\n",
    "\n",
    "- $\\phi_0 = 10^{5}$ metres squared per second squared\n",
    "- $A = 10^{-4}$ per second\n",
    "- $L_y = 5 \\times 10^{5}$ metres\n",
    "- $A = 0.0125 $\n",
    "- $y_0 = 5 \\times 10^5$ metres\n",
    "\n",
    "We can advect a passive tracer around our 2D domain using the Semi-Lagrangian interpolation scheme."
   ]
  },
  {
   "cell_type": "markdown",
   "id": "e4b3a2d9",
   "metadata": {},
   "source": [
    "# Solution"
   ]
  },
  {
   "cell_type": "markdown",
   "id": "bd1be218",
   "metadata": {},
   "source": [
    "Imports:"
   ]
  },
  {
   "cell_type": "code",
   "execution_count": 39,
   "id": "85d19601",
   "metadata": {},
   "outputs": [],
   "source": [
    "import sys\n",
    "sys.path.append('Functions') # add 'Functions' folder to system-recognised path in order to import .py file and functions from within a nested folder.\n",
    "\n",
    "import numpy as np\n",
    "from scipy.linalg import solve\n",
    "import matplotlib.pyplot as plt\n",
    "import scienceplots\n",
    "plt.style.use('science')\n",
    "\n",
    "from Functions.grid_interpolation import *"
   ]
  },
  {
   "cell_type": "markdown",
   "id": "421388c9",
   "metadata": {},
   "source": [
    "Define constants:"
   ]
  },
  {
   "cell_type": "code",
   "execution_count": 40,
   "id": "545629ac",
   "metadata": {},
   "outputs": [],
   "source": [
    "# constants\n",
    "phi_0 = 1e5\n",
    "f_0   = 1e-4\n",
    "L_y   = 5e5\n",
    "A     = 0.0125\n",
    "sigma = 5e5\n",
    "x_0   = y_0 = 2.5e6\n",
    "\n",
    "# set up some interpolation orders for experiments\n",
    "interpolation_order = 3\n",
    "test_order          = 1\n",
    "second_test_order   = 5\n",
    "\n",
    "# duration of simulation\n",
    "duration = 12 * 24 * 60 * 60 # 12 days in seconds\n",
    "dt       = 60 * 60 # 1 hour in seconds\n",
    "N        = duration/dt # number of timesteps"
   ]
  },
  {
   "cell_type": "markdown",
   "id": "27550596",
   "metadata": {},
   "source": [
    "Define the grid:"
   ]
  },
  {
   "cell_type": "code",
   "execution_count": 41,
   "id": "55775d6a",
   "metadata": {},
   "outputs": [],
   "source": [
    "# common grid spacing\n",
    "grid_space = 1e5\n",
    "\n",
    "# adding 1e5 to both limits so that np.arrange() includes the upper limit\n",
    "upper_x_limit = 2.5e7 + grid_space\n",
    "upper_y_limit = 5e6 + grid_space\n",
    "\n",
    "x = np.arange(0, upper_x_limit, grid_space)\n",
    "y = np.arange(0, upper_y_limit, grid_space)\n",
    "\n",
    "# define an X array where :\n",
    "Y, X = np.meshgrid(y, x)"
   ]
  },
  {
   "cell_type": "markdown",
   "id": "bd0a20c9",
   "metadata": {},
   "source": [
    "Now we can define the streamfunction and passive tracer"
   ]
  },
  {
   "cell_type": "code",
   "execution_count": 42,
   "id": "fbba6da6",
   "metadata": {},
   "outputs": [],
   "source": [
    "psi  = phi_0/f_0 * (1 - (A * (np.tanh((Y-y_0)/L_y))))\n",
    "\n",
    "q_xy = np.exp(-((X-x_0)**2 + (Y-y_0)**2)/(2 * (sigma**2)))"
   ]
  },
  {
   "cell_type": "markdown",
   "id": "2a9c5779",
   "metadata": {},
   "source": [
    "Quick sanitation check from visualisations:"
   ]
  },
  {
   "cell_type": "markdown",
   "id": "b79c410f",
   "metadata": {},
   "source": [
    "$ \\Psi $"
   ]
  },
  {
   "cell_type": "code",
   "execution_count": 43,
   "id": "8549f25f",
   "metadata": {},
   "outputs": [
    {
     "data": {
      "text/plain": [
       "<matplotlib.contour.QuadContourSet at 0x12d5b6e60>"
      ]
     },
     "execution_count": 43,
     "metadata": {},
     "output_type": "execute_result"
    },
    {
     "data": {
      "image/png": "[encoded data removed]",
      "text/plain": [
       "<Figure size 350x262.5 with 1 Axes>"
      ]
     },
     "metadata": {},
     "output_type": "display_data"
    }
   ],
   "source": [
    "plt.contourf(psi)"
   ]
  },
  {
   "cell_type": "markdown",
   "id": "2ccc36d1",
   "metadata": {},
   "source": [
    "$ q_{xy} $"
   ]
  },
  {
   "cell_type": "code",
   "execution_count": 46,
   "id": "0da05b9c",
   "metadata": {},
   "outputs": [
    {
     "data": {
      "text/plain": [
       "<matplotlib.contour.QuadContourSet at 0x12d949540>"
      ]
     },
     "execution_count": 46,
     "metadata": {},
     "output_type": "execute_result"
    },
    {
     "data": {
      "image/png": "[encoded data removed]",
      "text/plain": [
       "<Figure size 350x262.5 with 1 Axes>"
      ]
     },
     "metadata": {},
     "output_type": "display_data"
    }
   ],
   "source": [
    "plt.contourf(q_xy)"
   ]
  },
  {
   "cell_type": "markdown",
   "id": "49853069",
   "metadata": {},
   "source": [
    "We have the following discretisation scheme, which is periodic in the East-West direction:\n",
    "\n",
    "$$ u = \\frac{\\Psi_{j, i+1} - \\Psi_{j, i-1}}{2 \\Delta y} $$"
   ]
  },
  {
   "cell_type": "code",
   "execution_count": 69,
   "id": "fb2cc053",
   "metadata": {},
   "outputs": [],
   "source": [
    "def generate_velocity(streamfunction, y, x):\n",
    "    N = np.shape(y)[1] # length in the y direction\n",
    "    M = np.shape(x)[1]\n",
    "    dx = dy = y[0][1]-y[0][0] # extract grid space step from y array\n",
    "    \n",
    "    # implement centred difference scheme for u, ignoring the boundary conditions\n",
    "    u = -1 * ((streamfunction[:,2:N] - streamfunction[:,0:(N-2)]) / (2 * dy))\n",
    "    \n",
    "    # implement centred difference scheme for v, accounting for boundary conditions\n",
    "    v = (streamfunction[1:(M-1), :] - streamfunction[0:(M-2), :]) / (2 * dx)\n",
    "    \n",
    "    return u, v\n",
    "\n",
    "u, v = generate_velocity(psi, Y, X)"
   ]
  },
  {
   "cell_type": "code",
   "execution_count": 92,
   "id": "6ddafadc",
   "metadata": {},
   "outputs": [],
   "source": [
    "import numpy as np\n",
    "\n",
    "def generate_velocity(streamfunction, y, x):\n",
    "    N = np.shape(y)[1]  # length in the y direction\n",
    "    M = np.shape(x)[1]\n",
    "    dx = dy = y[0, 1] - y[0, 0]  # extract grid space step from y array\n",
    "    \n",
    "    # Implement centred difference scheme for u, ignoring the boundary conditions\n",
    "    u = -1 * ((streamfunction[:, 2:N] - streamfunction[:, 0:(N-2)]) / (2 * dy))\n",
    "\n",
    "    # Define boundary conditions for v\n",
    "    v_first = (streamfunction[1, :] - streamfunction[-1, :]) / (2 * dx)\n",
    "    v_last = (streamfunction[0, :] - streamfunction[-2, :]) / (2 * dx)\n",
    "    \n",
    "    # Implement centred difference scheme for middle values of v\n",
    "    v_interior = (streamfunction[2:M, :] - streamfunction[0:(M-2), :]) / (2 * dx)\n",
    "    \n",
    "    # Combine interior and boundary values for v\n",
    "    v = np.vstack([v_first, v_interior, v_last])\n",
    "    \n",
    "    return u, v\n",
    "\n",
    "U, V = generate_velocity(psi, Y, X)"
   ]
  },
  {
   "cell_type": "code",
   "execution_count": 90,
   "id": "5cc21509",
   "metadata": {},
   "outputs": [
    {
     "data": {
      "text/plain": [
       "<matplotlib.contour.QuadContourSet at 0x12db57940>"
      ]
     },
     "execution_count": 90,
     "metadata": {},
     "output_type": "execute_result"
    },
    {
     "data": {
      "image/png": "[encoded data removed]",
      "text/plain": [
       "<Figure size 350x262.5 with 1 Axes>"
      ]
     },
     "metadata": {},
     "output_type": "display_data"
    }
   ],
   "source": [
    "plt.contourf(v)"
   ]
  },
  {
   "cell_type": "code",
   "execution_count": null,
   "id": "be3ffcb4",
   "metadata": {},
   "outputs": [],
   "source": []
  }
 ],
 "metadata": {
  "kernelspec": {
   "display_name": "Python 3 (ipykernel)",
   "language": "python",
   "name": "python3"
  },
  "language_info": {
   "codemirror_mode": {
    "name": "ipython",
    "version": 3
   },
   "file_extension": ".py",
   "mimetype": "text/x-python",
   "name": "python",
   "nbconvert_exporter": "python",
   "pygments_lexer": "ipython3",
   "version": "3.10.10"
  }
 },
 "nbformat": 4,
 "nbformat_minor": 5
}
