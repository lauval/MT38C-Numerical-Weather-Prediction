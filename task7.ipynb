{
 "cells": [
  {
   "cell_type": "markdown",
   "id": "e1ce88f8",
   "metadata": {},
   "source": [
    "# Background Theory\n",
    "\n",
    "If some quantity, q (e.g. potential vorticity, $\\xi$) can be advected by the wind field $\\mathbf{v}$, then it satisfies the differential equation:\n",
    "\n",
    "$$ \\frac{Dq}{Dt} = 0 $$\n",
    "\n",
    "We also recall from previous weeks that we can define a streamfunction, $\\Psi$, for a non-divergent field."
   ]
  },
  {
   "cell_type": "markdown",
   "id": "dc31868c",
   "metadata": {},
   "source": [
    "So if we want to find the value of $q$ at some time $t^{n+1}$, we need the value of $q$ at time $t^n$ at the point in the fluid that will arrive at $\\mathbf{x}_{ij}$ at time $t^{n+1}$. This is the departure point, $\\tilde{\\mathbf{x}}_{ij}$.\n",
    "\n",
    "To find the departure point, we use the definition of velocity: $\\frac{D \\mathbf{x}}{Dt} = \\mathbf{u}$.\n",
    "\n",
    "We can integrate this over one timestep using the avergage of the values of the end points as an estmate of the value in the middle. So we have:\n",
    "\n",
    "$$ \\mathbf{x}_{ij} = \\tilde{\\mathbf{x}}_{ij} + \\frac{\\mathbf{u}\\left(\\tilde{\\mathbf{x}}_{ij}, t^n\\right) + \\mathbf{u}\\left(\\mathbf{x}_{ij}, t^{n+1}\\right)}{2} \\Delta t$$\n",
    "\n",
    "We re-arrange this for $\\tilde{\\mathbf{x}}_{ij}$:\n",
    "\n",
    "$$ \\tilde{\\mathbf{x}}_{ij} = \\mathbf{x}_{ij} - \\frac{\\mathbf{u}\\left(\\tilde{\\mathbf{x}}_{ij}, t^n\\right) + \\mathbf{u}\\left(\\mathbf{x}_{ij}, t^{n+1}\\right)}{2} \\Delta t$$\n",
    "\n",
    "\n",
    "Which we can solve iteratively."
   ]
  },
  {
   "cell_type": "markdown",
   "id": "3aa36678",
   "metadata": {},
   "source": [
    "We can use the principles above to advect a passive tracer around a 2D domain. \n",
    "\n",
    "The streamfunction is as originally defined in previous weeks:\n",
    "$$ \\Psi = \\frac{\\Phi_0}{f_0} \\left[ 1 - A \\tanh{\\left(\\frac{y-y_0}{L_y}\\right)}\\right] $$\n",
    "\n",
    "And the passive tracer is defined as:\n",
    "$$ q(x,y) = \\exp \\left(\\frac{[(x-x_0)^2 + y-y_0)^2}{2 \\sigma} \\right) $$\n",
    "\n",
    "Thus, given some domain parameters:\n",
    "\n",
    "- $\\phi_0 = 10^{5}$ metres squared per second squared\n",
    "- $A = 10^{-4}$ per second\n",
    "- $L_y = 5 \\times 10^{5}$ metres\n",
    "- $A = 0.0125 $\n",
    "- $y_0 = 5 \\times 10^5$ metres\n",
    "\n",
    "We can advect a passive tracer around our 2D domain using the Semi-Lagrangian interpolation scheme."
   ]
  },
  {
   "cell_type": "markdown",
   "id": "e4b3a2d9",
   "metadata": {},
   "source": [
    "# Solution"
   ]
  },
  {
   "cell_type": "markdown",
   "id": "bd1be218",
   "metadata": {},
   "source": [
    "Imports:"
   ]
  },
  {
   "cell_type": "code",
   "execution_count": 1,
   "id": "85d19601",
   "metadata": {},
   "outputs": [],
   "source": [
    "import sys\n",
    "sys.path.append('Functions') # add 'Functions' folder to system-recognised path in order to import .py file and functions from within a nested folder.\n",
    "\n",
    "import numpy as np\n",
    "import matplotlib.pyplot as plt\n",
    "import scienceplots\n",
    "plt.style.use('science')\n",
    "\n",
    "from Functions.grid_interpolation import *"
   ]
  },
  {
   "cell_type": "markdown",
   "id": "421388c9",
   "metadata": {},
   "source": [
    "Define constants:"
   ]
  },
  {
   "cell_type": "code",
   "execution_count": 2,
   "id": "545629ac",
   "metadata": {},
   "outputs": [],
   "source": [
    "# constants\n",
    "phi_0 = 1e5\n",
    "f_0   = 1e-4\n",
    "L_y   = 5e5\n",
    "A     = 0.0125\n",
    "sigma = 5e5\n",
    "x_0   = y_0 = 2.5e6\n",
    "\n",
    "# set up some interpolation orders for experiments\n",
    "interpolation_order = 3\n",
    "test_order          = 1\n",
    "second_test_order   = 5\n",
    "\n",
    "# duration of simulation\n",
    "duration  = 12 * 24 * 60 * 60 # 12 days in seconds\n",
    "dt        = 60 * 60 # 1 hour in seconds\n",
    "num_steps = duration/dt # number of timesteps"
   ]
  },
  {
   "cell_type": "markdown",
   "id": "27550596",
   "metadata": {},
   "source": [
    "Define the grid:"
   ]
  },
  {
   "cell_type": "code",
   "execution_count": 3,
   "id": "55775d6a",
   "metadata": {},
   "outputs": [],
   "source": [
    "# common grid spacing\n",
    "grid_space = 1e5\n",
    "\n",
    "# adding 1e5 to both limits so that np.arrange() includes the upper limit\n",
    "upper_x_limit = 2.5e7 + grid_space\n",
    "upper_y_limit = 5e6 + grid_space\n",
    "\n",
    "x = np.arange(0, upper_x_limit, grid_space)\n",
    "y = np.arange(0, upper_y_limit, grid_space)\n",
    "\n",
    "# define an X array where :\n",
    "Y, X = np.meshgrid(y, x)"
   ]
  },
  {
   "cell_type": "markdown",
   "id": "bd0a20c9",
   "metadata": {},
   "source": [
    "Now we can define the streamfunction and passive tracer"
   ]
  },
  {
   "cell_type": "code",
   "execution_count": 4,
   "id": "fbba6da6",
   "metadata": {},
   "outputs": [],
   "source": [
    "psi  = phi_0/f_0 * (1 - (A * (np.tanh((Y-y_0)/L_y))))\n",
    "\n",
    "q_xy = np.exp(-((X-x_0)**2 + (Y-y_0)**2)/(2 * (sigma**2)))"
   ]
  },
  {
   "cell_type": "markdown",
   "id": "2a9c5779",
   "metadata": {},
   "source": [
    "Quick sanity check from visualisations:"
   ]
  },
  {
   "cell_type": "markdown",
   "id": "b79c410f",
   "metadata": {},
   "source": [
    "$ \\Psi $"
   ]
  },
  {
   "cell_type": "code",
   "execution_count": 5,
   "id": "8549f25f",
   "metadata": {},
   "outputs": [
    {
     "data": {
      "text/plain": [
       "<matplotlib.contour.QuadContourSet at 0x117d94460>"
      ]
     },
     "execution_count": 5,
     "metadata": {},
     "output_type": "execute_result"
    },
    {
     "data": {
      "image/png": "[encoded data removed]",
      "text/plain": [
       "<Figure size 350x262.5 with 1 Axes>"
      ]
     },
     "metadata": {},
     "output_type": "display_data"
    }
   ],
   "source": [
    "plt.contourf(psi)"
   ]
  },
  {
   "cell_type": "markdown",
   "id": "2ccc36d1",
   "metadata": {},
   "source": [
    "$ q_{xy} $"
   ]
  },
  {
   "cell_type": "code",
   "execution_count": 6,
   "id": "0da05b9c",
   "metadata": {},
   "outputs": [
    {
     "data": {
      "text/plain": [
       "<matplotlib.contour.QuadContourSet at 0x1200889d0>"
      ]
     },
     "execution_count": 6,
     "metadata": {},
     "output_type": "execute_result"
    },
    {
     "data": {
      "image/png": "[encoded data removed]",
      "text/plain": [
       "<Figure size 350x262.5 with 1 Axes>"
      ]
     },
     "metadata": {},
     "output_type": "display_data"
    }
   ],
   "source": [
    "plt.contourf(q_xy)"
   ]
  },
  {
   "cell_type": "markdown",
   "id": "49853069",
   "metadata": {},
   "source": [
    "Recalling the definition of the streamfunction, we have:\n",
    "\n",
    "$$ \\mathbf{v} = (u,v) = \\left(-\\frac{\\partial \\Psi}{\\partial y}, \\frac{\\partial \\Psi}{\\partial x}\\right) $$\n",
    "\n",
    "Therefore, we discretise the velocity components using the centred difference scheme, giving us a zonal velocity that looks like so:\n",
    "\n",
    "$$ u = \\frac{\\Psi_{j, i+1} - \\Psi_{j, i-1}}{2 \\Delta y} $$\n",
    "\n",
    "For the meridional velocity we have:\n",
    "\n",
    "$$ v = -\\frac{\\Psi_{j+1, i} - \\Psi_{j-1, i}}{2 \\Delta x} $$\n",
    "\n",
    "We "
   ]
  },
  {
   "cell_type": "code",
   "execution_count": 7,
   "id": "6ddafadc",
   "metadata": {},
   "outputs": [],
   "source": [
    "def generate_velocity(streamfunction, y, x):\n",
    "    N = np.shape(y)[1]  # length in the y direction\n",
    "    M = np.shape(x)[0]\n",
    "    dx = dy = y[0, 1] - y[0, 0]  # extract grid space step from y array\n",
    "    \n",
    "    # Implement centred difference scheme for u, ignoring the boundary conditions as u \n",
    "    # is not defined on the boundary\n",
    "    u = -1 * ((streamfunction[:, 2:N] - streamfunction[:, 0:(N-2)]) / (2 * dy))\n",
    "\n",
    "    # Define boundary conditions for v\n",
    "    v_first = (streamfunction[1, 1:(N-1)] - streamfunction[-1, 1:(N-1)]) / (2 * dx)\n",
    "    v_last = (streamfunction[0, 1:(N-1)] - streamfunction[-2, 1:(N-1)]) / (2 * dx)\n",
    "\n",
    "    # Implement centred difference scheme for middle values of v\n",
    "    v_interior = (streamfunction[2:M, 1:(N-1)] - streamfunction[0:(M-2), 1:(N-1)]) / (2 * dx)\n",
    "    \n",
    "    # Combine interior and boundary values for v\n",
    "    v = np.vstack([v_first, v_interior, v_last])\n",
    "\n",
    "    return u, v\n",
    "\n",
    "U, V = generate_velocity(psi, Y, X)"
   ]
  },
  {
   "cell_type": "markdown",
   "metadata": {},
   "source": [
    "Visualising results:"
   ]
  },
  {
   "cell_type": "code",
   "execution_count": 8,
   "id": "ce905e57",
   "metadata": {},
   "outputs": [
    {
     "data": {
      "text/plain": [
       "<matplotlib.contour.QuadContourSet at 0x12048ae00>"
      ]
     },
     "execution_count": 8,
     "metadata": {},
     "output_type": "execute_result"
    },
    {
     "data": {
      "image/png": "[encoded data removed]",
      "text/plain": [
       "<Figure size 350x262.5 with 1 Axes>"
      ]
     },
     "metadata": {},
     "output_type": "display_data"
    }
   ],
   "source": [
    "plt.contourf(U)"
   ]
  },
  {
   "cell_type": "code",
   "execution_count": 9,
   "id": "5cc21509",
   "metadata": {},
   "outputs": [
    {
     "data": {
      "text/plain": [
       "<matplotlib.contour.QuadContourSet at 0x12059ff40>"
      ]
     },
     "execution_count": 9,
     "metadata": {},
     "output_type": "execute_result"
    },
    {
     "data": {
      "image/png": "[encoded data removed]",
      "text/plain": [
       "<Figure size 350x262.5 with 1 Axes>"
      ]
     },
     "metadata": {},
     "output_type": "display_data"
    }
   ],
   "source": [
    "plt.contourf(V)"
   ]
  },
  {
   "cell_type": "markdown",
   "metadata": {},
   "source": [
    "Now we can advect the passive tracer using the Semi-Lagrangian scheme. We first begin by computing the departure points."
   ]
  },
  {
   "cell_type": "code",
   "execution_count": 10,
   "metadata": {},
   "outputs": [],
   "source": [
    "def compute_dep_pts(u, v, dt, x, y, dx, max_iterations=100):\n",
    "\n",
    "    # First we set a convergence threshold\n",
    "    convergence_threshold = 0.01 * dx\n",
    "\n",
    "    # Set an initial guess of wind at the midpoint between departure and arrival points to be the \n",
    "    # wind at the arrival point\n",
    "    u_mid, v_mid = u, v\n",
    "\n",
    "    # Set the first guess of departure points \n",
    "    x_dep = x - (u_mid * dt)\n",
    "    y_dep = y - (v_mid * dt)\n",
    "\n",
    "    # Iterate, updating departure points until convergence \n",
    "    for _ in range(max_iterations):\n",
    "        # Interpolate wind to departure points using custom interpolation\n",
    "        u_dep, v_dep = interpolate([u, v], x, y, x_dep, y_dep, interp_order=3, wrap=[True, False])\n",
    "\n",
    "        # Estimate wind at midpoint\n",
    "        u_mid = 0.5 * (u_dep + u)\n",
    "        v_mid = 0.5 * (v_dep + v)\n",
    "\n",
    "        # Compute new estimate departure points\n",
    "        x_dep_new = x_dep - u_mid * dt\n",
    "        y_dep_new = y_dep - v_mid * dt\n",
    "\n",
    "        # Compute change from (x_dep, y_dep) to (x_dep_new, y_dep_new) across the grid\n",
    "        max_change = np.max(np.sqrt((x_dep_new - x_dep)**2 + (y_dep_new - y_dep)**2))\n",
    "\n",
    "        # Check for convergence\n",
    "        if max_change < convergence_threshold * dx:\n",
    "            break\n",
    "\n",
    "        # Update departure points\n",
    "        x_dep, y_dep = x_dep_new, y_dep_new\n",
    "\n",
    "    return x_dep, y_dep\n",
    "\n",
    "# Compute departure points\n",
    "x_dep, y_dep = compute_dep_pts(u = U, v=V, dt=dt, x=X[:,1:-1], y=Y[:,1:-1], dx=grid_space)"
   ]
  },
  {
   "cell_type": "markdown",
   "metadata": {},
   "source": [
    "Advect the tracer field:"
   ]
  },
  {
   "cell_type": "code",
   "execution_count": 11,
   "metadata": {},
   "outputs": [],
   "source": [
    "def advect_tracer(num_steps, q, x, y, x_dep, y_dep, interp_order):\n",
    "\n",
    "    for time_step in range(int(num_steps)):\n",
    "\n",
    "        # Interpolate q to departure points\n",
    "        q_dep = interpolate([q[:,1:-1]], x[:,1:-1], y[:,1:-1], x_dep, y_dep, interp_order=interp_order, wrap=[True, False])\n",
    "\n",
    "        # Compute new q\n",
    "        q[:,1:-1] = q_dep[0]\n",
    "\n",
    "    return q\n",
    "\n",
    "advected_q_interp_1 = advect_tracer(num_steps, q_xy, X, Y, x_dep, y_dep, test_order)\n",
    "advected_q_interp_3 = advect_tracer(num_steps, q_xy, X, Y, x_dep, y_dep, interpolation_order)\n",
    "advected_q_interp_5 = advect_tracer(num_steps, q_xy, X, Y, x_dep, y_dep, second_test_order)"
   ]
  },
  {
   "cell_type": "code",
   "execution_count": 12,
   "metadata": {},
   "outputs": [
    {
     "data": {
      "text/plain": [
       "<matplotlib.contour.QuadContourSet at 0x120706800>"
      ]
     },
     "execution_count": 12,
     "metadata": {},
     "output_type": "execute_result"
    },
    {
     "data": {
      "image/png": "[encoded data removed]",
      "text/plain": [
       "<Figure size 350x262.5 with 1 Axes>"
      ]
     },
     "metadata": {},
     "output_type": "display_data"
    }
   ],
   "source": [
    "plt.contourf(advected_q_interp_1)"
   ]
  },
  {
   "cell_type": "code",
   "execution_count": 13,
   "metadata": {},
   "outputs": [
    {
     "data": {
      "text/plain": [
       "<matplotlib.contour.QuadContourSet at 0x1300bc0d0>"
      ]
     },
     "execution_count": 13,
     "metadata": {},
     "output_type": "execute_result"
    },
    {
     "data": {
      "image/png": "[encoded data removed]",
      "text/plain": [
       "<Figure size 350x262.5 with 1 Axes>"
      ]
     },
     "metadata": {},
     "output_type": "display_data"
    }
   ],
   "source": [
    "plt.contourf(advected_q_interp_3)"
   ]
  },
  {
   "cell_type": "code",
   "execution_count": 14,
   "metadata": {},
   "outputs": [
    {
     "data": {
      "text/plain": [
       "<matplotlib.contour.QuadContourSet at 0x1301fffd0>"
      ]
     },
     "execution_count": 14,
     "metadata": {},
     "output_type": "execute_result"
    },
    {
     "data": {
      "image/png": "[encoded data removed]",
      "text/plain": [
       "<Figure size 350x262.5 with 1 Axes>"
      ]
     },
     "metadata": {},
     "output_type": "display_data"
    }
   ],
   "source": [
    "plt.contourf(advected_q_interp_5)"
   ]
  }
 ],
 "metadata": {
  "kernelspec": {
   "display_name": "Python 3 (ipykernel)",
   "language": "python",
   "name": "python3"
  },
  "language_info": {
   "codemirror_mode": {
    "name": "ipython",
    "version": 3
   },
   "file_extension": ".py",
   "mimetype": "text/x-python",
   "name": "python",
   "nbconvert_exporter": "python",
   "pygments_lexer": "ipython3",
   "version": "3.10.10"
  }
 },
 "nbformat": 4,
 "nbformat_minor": 5
}
