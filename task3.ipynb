{
 "cells": [
  {
   "cell_type": "markdown",
   "metadata": {},
   "source": [
    "# Task 3 Solving The Linear Advection Form of Burger's Equation"
   ]
  },
  {
   "cell_type": "markdown",
   "metadata": {},
   "source": [
    "We want to solve Burgers' equation (BE) using the following schemes:\n",
    "\n",
    "1. Forward in time, backward in space (FTBS), applied to the advective form of BE.\n",
    "2. Forward in time, backward in space (FTBS), applied to the flux form of BE.\n",
    "3. Centred in time - with 3 levels, backward in space (CTBS)."
   ]
  },
  {
   "cell_type": "markdown",
   "metadata": {},
   "source": [
    "## The Advection Form of Burgers' Equation"
   ]
  },
  {
   "cell_type": "markdown",
   "metadata": {},
   "source": [
    "We have:\n",
    "\n",
    "$$\\frac{\\partial u}{\\partial t} + u_a \\frac{\\partial u}{\\partial x} = 0$$\n",
    "\n",
    "where $u_a$ is a given constant.\n",
    "\n",
    "We discretise this equation using FTBS, giving:\n",
    "\n",
    "$$u_i^{n+1} = u_i^n - \\frac{u_a \\Delta t}{\\Delta x} (u_i^n - u^n_{i-1})$$"
   ]
  },
  {
   "cell_type": "markdown",
   "metadata": {},
   "source": [
    "To solve the equation, we are given the following initial conditions:\n",
    "\n",
    "- $u_a = 1$\n",
    "- $u^0_i = 0.5 (1 + \\cos(2 \\pi i \\Delta x / L))$ where i is the space index from 0 to N-1.\n",
    "- $\\Delta x  = 0.1$\n",
    "- N = 100\n",
    "- total duration of simulation = 10 time units\n",
    "- $\\Delta t = 0.01, 0.05, 0.1, 0.2$"
   ]
  },
  {
   "cell_type": "markdown",
   "metadata": {},
   "source": []
  }
 ],
 "metadata": {
  "language_info": {
   "name": "python"
  }
 },
 "nbformat": 4,
 "nbformat_minor": 2
}
